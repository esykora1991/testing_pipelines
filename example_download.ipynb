{
 "cells": [
  {
   "cell_type": "code",
   "execution_count": null,
   "metadata": {},
   "outputs": [],
   "source": [
    "# download SPY data from yf for past year\n",
    "import yfinance as yf\n",
    "from azure.storage.blob import BlobServiceClient, BlobClient, ContainerClient\n",
    "\n",
    "# Download SPY data from the last year\n",
    "data = yf.download('SPY', start='2020-01-01', end='2021-01-01')\n",
    "\n",
    "# Save data to a CSV file\n",
    "data.to_csv('SPY_data.csv')\n",
    "\n",
    "# Create a blob client using the local file name as the name for the blob\n",
    "connection_string = \"your_connection_string\" #Azure Storage account's connection string\n",
    "blob_service_client = BlobServiceClient.from_connection_string(connection_string)\n",
    "blob_client = blob_service_client.get_blob_client(\"your_container_name\", \"SPY_data.csv\")\n",
    "\n",
    "# Upload the created file\n",
    "with open('SPY_data.csv', \"rb\") as data:\n",
    "    blob_client.upload_blob(data)"
   ]
  }
 ],
 "metadata": {
  "interpreter": {
   "hash": "1a925cdfc9fbe266867edfac6c4c0e588e23cb795d91e5ca16cdccbbe10220e4"
  },
  "kernelspec": {
   "display_name": "Calibrationenv",
   "language": "python",
   "name": "calibrationenv"
  },
  "language_info": {
   "codemirror_mode": {
    "name": "ipython",
    "version": 3
   },
   "file_extension": ".py",
   "mimetype": "text/x-python",
   "name": "python",
   "nbconvert_exporter": "python",
   "pygments_lexer": "ipython3",
   "version": "3.8.12"
  },
  "orig_nbformat": 4
 },
 "nbformat": 4,
 "nbformat_minor": 2
}
